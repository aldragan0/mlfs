{
 "cells": [
  {
   "cell_type": "code",
   "execution_count": 1,
   "metadata": {},
   "outputs": [],
   "source": [
    "from __future__ import annotations\n",
    "\n",
    "from typing import List, Tuple\n",
    "\n",
    "from collections import deque\n",
    "\n",
    "import numpy as np\n",
    "import pandas as pd"
   ]
  },
  {
   "cell_type": "code",
   "execution_count": 2,
   "metadata": {},
   "outputs": [],
   "source": [
    "class Node(object):\n",
    "    def __init__(self, feature: str = None, value: object = None, left: Node = None, right: Node = None) -> None:\n",
    "        self.value = value\n",
    "        self.left = left\n",
    "        self.right = right\n",
    "        self.f = feature\n",
    "\n",
    "    def __repr__(self) -> str:\n",
    "        return \"{{f: {}, v: {}, left: {}, right: {}}}\".format(self.f, self.value, self.left, self.right)\n",
    "\n",
    "\n",
    "class DecisionTree(object):\n",
    "    def __init__(self, root: Node, verbose: bool = False) -> None:\n",
    "        self.root = root\n",
    "        self.__verbose = verbose\n",
    "\n",
    "    def __debug(self, value = None) -> None:\n",
    "        if self.__verbose:\n",
    "            print(value)\n",
    "\n",
    "    def predict(self, x: np.ndarray) -> int:\n",
    "        self.__debug(f\"predicting for input: {x}\")\n",
    "        curr = self.root\n",
    "        \n",
    "        while curr.f is not None:\n",
    "            self.__debug(f'feature: {curr.f}, value: {curr.value}')\n",
    "            if x[curr.f] >= curr.value:\n",
    "                curr = curr.left\n",
    "            else:\n",
    "                curr = curr.right\n",
    "        \n",
    "        self.__debug()\n",
    "        return curr.value\n"
   ]
  },
  {
   "cell_type": "code",
   "execution_count": 3,
   "metadata": {},
   "outputs": [],
   "source": [
    "X_train = np.array([[1, 1, 1],\n",
    "[0, 0, 1],\n",
    " [0, 1, 0],\n",
    " [1, 0, 1],\n",
    " [1, 1, 1],\n",
    " [1, 1, 0],\n",
    " [0, 0, 0],\n",
    " [1, 1, 0],\n",
    " [0, 1, 0],\n",
    " [0, 1, 0]])\n",
    "\n",
    "y_train = np.array([1, 1, 0, 0, 1, 1, 0, 1, 0, 0])"
   ]
  },
  {
   "cell_type": "code",
   "execution_count": 4,
   "metadata": {},
   "outputs": [],
   "source": [
    "tree = DecisionTree(\n",
    "    Node(\n",
    "        feature=0,\n",
    "        value=1,\n",
    "        left=Node(\n",
    "            feature=1,\n",
    "            value=1,\n",
    "            left=Node(\n",
    "                value=1\n",
    "            ),\n",
    "            right=Node(\n",
    "                value=0\n",
    "            )\n",
    "        ),\n",
    "        right=Node(\n",
    "            feature=2,\n",
    "            value=1,\n",
    "            left=Node(\n",
    "                value=1\n",
    "            ),\n",
    "            right=Node(\n",
    "                value=0\n",
    "            )\n",
    "        )\n",
    "    )\n",
    ")"
   ]
  },
  {
   "cell_type": "code",
   "execution_count": 5,
   "metadata": {},
   "outputs": [
    {
     "data": {
      "text/plain": [
       "array([0, 0, 0, 0, 0, 0, 0, 0, 0, 0])"
      ]
     },
     "execution_count": 5,
     "metadata": {},
     "output_type": "execute_result"
    }
   ],
   "source": [
    "y_hat = [tree.predict(X_train[i]) for i in range(X_train.shape[0])]\n",
    "y_train - y_hat"
   ]
  },
  {
   "cell_type": "code",
   "execution_count": 6,
   "metadata": {},
   "outputs": [
    {
     "data": {
      "text/plain": [
       "1"
      ]
     },
     "execution_count": 6,
     "metadata": {},
     "output_type": "execute_result"
    }
   ],
   "source": [
    "tree.predict(X_train[0])"
   ]
  },
  {
   "cell_type": "code",
   "execution_count": 7,
   "metadata": {},
   "outputs": [],
   "source": [
    "def entropy(y: float) -> float:\n",
    "    if y == 0 or y == 1:\n",
    "        return 0\n",
    "    else:\n",
    "        return -y * np.log2(y) - (1 - y) * np.log2(1 - y)"
   ]
  },
  {
   "cell_type": "code",
   "execution_count": 8,
   "metadata": {},
   "outputs": [
    {
     "name": "stdout",
     "output_type": "stream",
     "text": [
      "0\n",
      "0.4689955935892812\n",
      "0.7219280948873623\n",
      "0.8812908992306927\n",
      "0.9709505944546686\n",
      "1.0\n",
      "0.9709505944546686\n",
      "0.8812908992306926\n",
      "0.7219280948873623\n",
      "0.4689955935892811\n",
      "0\n"
     ]
    }
   ],
   "source": [
    "for i in np.arange(0, 1.1, .1):\n",
    "    print(entropy(i))"
   ]
  },
  {
   "cell_type": "code",
   "execution_count": 9,
   "metadata": {},
   "outputs": [],
   "source": [
    "def information_gain(left_idx: np.ndarray, right_idx: np.ndarray, y: np.ndarray) -> float:\n",
    "    p_root = np.sum(y) / y.shape[0]\n",
    "\n",
    "    left = y[left_idx]\n",
    "\n",
    "    w_left = len(left) / len(y)\n",
    "    p_left = np.sum(left) / (len(left) + 1e-15)\n",
    "\n",
    "    right = y[right_idx]\n",
    "\n",
    "    w_right = len(right) / len(y)\n",
    "    p_right = np.sum(right) / (len(right) + 1e-15)\n",
    "\n",
    "    return inf_gain(p_root, p_left, w_left, p_right, w_right)\n",
    "\n",
    "def inf_gain(p_root: float, p_left: float, w_left: float, p_right: float, w_right: float) -> float:\n",
    "    return entropy(p_root) - (w_left * entropy(p_left) + w_right * entropy(p_right))"
   ]
  },
  {
   "cell_type": "code",
   "execution_count": 10,
   "metadata": {},
   "outputs": [
    {
     "data": {
      "text/plain": [
       "0.2780719051126377"
      ]
     },
     "execution_count": 10,
     "metadata": {},
     "output_type": "execute_result"
    }
   ],
   "source": [
    "inf_gain(.5, 4/5, .5, 1/5, .5)"
   ]
  },
  {
   "cell_type": "code",
   "execution_count": 11,
   "metadata": {},
   "outputs": [],
   "source": [
    "def split_by_feature(X: np.ndarray, idx: np.ndarray, feature: str, value: object) -> Tuple[np.ndarray, np.ndarray]:\n",
    "    left_mask = X[idx, feature] >= value\n",
    "    right_mask = ~left_mask\n",
    "\n",
    "    return (idx[left_mask], idx[right_mask])\n",
    "\n",
    "\n",
    "def get_best_feature_idx(X: np.ndarray, y: np.ndarray, idx: np.ndarray, features: List[object]) -> int:\n",
    "\n",
    "    inf_gains = []\n",
    "    for feature, value in features:\n",
    "        left_idx, right_idx = split_by_feature(X, idx, feature, value)\n",
    "\n",
    "        gain = information_gain(left_idx, right_idx, y)\n",
    "        inf_gains.append(gain)\n",
    "    \n",
    "    return np.argmax(inf_gains)"
   ]
  },
  {
   "cell_type": "code",
   "execution_count": 12,
   "metadata": {},
   "outputs": [
    {
     "name": "stdout",
     "output_type": "stream",
     "text": [
      "first level feature: 0\n",
      "[0 3 4 5 7]\n",
      "[1 2 6 8 9]\n",
      "second level left feature: 1\n",
      "[0 4 5 7]\n",
      "[3]\n",
      "second level right feature: 2\n",
      "[1]\n",
      "[2 6 8 9]\n"
     ]
    }
   ],
   "source": [
    "features = [(i, 1) for i in range(X_train.shape[1])]\n",
    "\n",
    "X = X_train\n",
    "y = y_train\n",
    "\n",
    "idx = np.arange(X.shape[0])\n",
    "\n",
    "feature_idx = get_best_feature_idx(X, y, idx, features)\n",
    "print(f'first level feature: {feature_idx}')\n",
    "\n",
    "left_idx, right_idx = split_by_feature(X, idx, *features[feature_idx])\n",
    "print(left_idx)\n",
    "print(right_idx)\n",
    "\n",
    "left_feature_idx = get_best_feature_idx(X, y, left_idx, features)\n",
    "print(f'second level left feature: {left_feature_idx}')\n",
    "\n",
    "left_left_idx, left_right_idx = split_by_feature(X, left_idx, *features[left_feature_idx])\n",
    "print(left_left_idx)\n",
    "print(left_right_idx)\n",
    "\n",
    "right_feature_idx = get_best_feature_idx(X, y, right_idx, features)\n",
    "print(f'second level right feature: {right_feature_idx}')\n",
    "\n",
    "right_left_idx, right_right_idx = split_by_feature(X, right_idx, *features[right_feature_idx])\n",
    "print(right_left_idx)\n",
    "print(right_right_idx)"
   ]
  },
  {
   "cell_type": "code",
   "execution_count": 16,
   "metadata": {},
   "outputs": [],
   "source": [
    "def build_tree(X: np.ndarray, y: np.ndarray, max_height: int) -> DecisionTree:\n",
    "    features = [(feature, 1) for feature in range(X.shape[1])]\n",
    "\n",
    "    idx = np.arange(X.shape[0])\n",
    "    root = Node()\n",
    "    \n",
    "    queue = deque([(idx, root, 0)])\n",
    "    \n",
    "    while len(queue) > 0:\n",
    "        idx, node, height = queue.popleft()\n",
    "\n",
    "        # If stopping criteria is met\n",
    "        if height == max_height:\n",
    "            # Set the leaf node to be the dominant class\n",
    "            node.value = np.argmax(np.bincount(y[idx]))\n",
    "            continue\n",
    "\n",
    "        best_feature_id = get_best_feature_idx(X, y, idx, features)\n",
    "\n",
    "        # Update the node with the best feature\n",
    "        f, fval = features[best_feature_id]\n",
    "        node.f = f\n",
    "        node.value = fval\n",
    "        node.left = Node()\n",
    "        node.right = Node()\n",
    "\n",
    "        # Create the children nodes\n",
    "        left_idx, right_idx = split_by_feature(X, idx, f, fval)\n",
    "\n",
    "        queue.append((left_idx, node.left, height + 1))\n",
    "        queue.append((right_idx, node.right, height + 1))\n",
    "    \n",
    "    return DecisionTree(root)"
   ]
  },
  {
   "cell_type": "code",
   "execution_count": 17,
   "metadata": {},
   "outputs": [
    {
     "data": {
      "text/plain": [
       "array([0, 0, 0, 0, 0, 0, 0, 0, 0, 0], dtype=int64)"
      ]
     },
     "execution_count": 17,
     "metadata": {},
     "output_type": "execute_result"
    }
   ],
   "source": [
    "tree = build_tree(X_train, y_train, 2)\n",
    "\n",
    "tree.predict(X_train[0])\n",
    "y_hat = [tree.predict(X_train[i]) for i in range(X_train.shape[0])]\n",
    "y_train - y_hat"
   ]
  }
 ],
 "metadata": {
  "kernelspec": {
   "display_name": "coursera-ml",
   "language": "python",
   "name": "python3"
  },
  "language_info": {
   "codemirror_mode": {
    "name": "ipython",
    "version": 3
   },
   "file_extension": ".py",
   "mimetype": "text/x-python",
   "name": "python",
   "nbconvert_exporter": "python",
   "pygments_lexer": "ipython3",
   "version": "3.10.11"
  },
  "orig_nbformat": 4
 },
 "nbformat": 4,
 "nbformat_minor": 2
}
