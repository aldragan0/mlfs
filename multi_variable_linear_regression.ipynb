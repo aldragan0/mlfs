{
 "cells": [
  {
   "cell_type": "code",
   "execution_count": 1,
   "metadata": {},
   "outputs": [],
   "source": [
    "import numpy as np\n",
    "import matplotlib.pyplot as plt\n",
    "\n",
    "from sklearn.datasets import load_diabetes, make_regression\n",
    "from sklearn.model_selection import train_test_split"
   ]
  },
  {
   "attachments": {},
   "cell_type": "markdown",
   "metadata": {},
   "source": [
    "## 1. Define model"
   ]
  },
  {
   "cell_type": "code",
   "execution_count": 2,
   "metadata": {},
   "outputs": [],
   "source": [
    "class MultivariableLinearRegressor(object):\n",
    "    def __init__(self, alpha: float, epochs: int, rng_seed: int, eps: float = 1e-8):\n",
    "        self.__alpha = alpha\n",
    "        self.__epochs = epochs\n",
    "        self.__eps = eps\n",
    "        self.__rng = np.random.default_rng(rng_seed) if rng_seed else np.random.default_rng()\n",
    "\n",
    "\n",
    "    def fit(self, x: np.ndarray, y: np.ndarray) -> list:\n",
    "        self.__w = self.__rng.random(x.shape[1])\n",
    "        self.__b = self.__rng.random()\n",
    "\n",
    "        costs = list()\n",
    "        prev_cost = 0\n",
    "\n",
    "        for i in range(self.__epochs):\n",
    "            y_hat = self.predict(x)\n",
    "            cost = self._cost(y, y_hat)\n",
    "\n",
    "            if abs(cost - prev_cost) < self.__eps:\n",
    "                break\n",
    "\n",
    "            costs.append(cost)\n",
    "\n",
    "            if i % (self.__epochs / 10) == 0:\n",
    "                print(f\"Epoch[{i}]: cost: {cost:.5f}\")\n",
    "\n",
    "            dj_dw = self._cost_weight_derivative(y, y_hat, x)\n",
    "            dj_db = self._cost_bias_derivative(y, y_hat)\n",
    "\n",
    "            self.__w -= self.__alpha * dj_dw\n",
    "            self.__b -= self.__alpha * dj_db\n",
    "        \n",
    "        return costs\n",
    "\n",
    "    \n",
    "    def predict(self, x: np.ndarray) -> float:\n",
    "        return self._model(x, self.__w, self.__b)\n",
    "\n",
    "\n",
    "    @staticmethod\n",
    "    def _model(x: np.ndarray, w: np.ndarray, b: float) -> np.ndarray:\n",
    "        return np.dot(x, w) + b\n",
    "\n",
    "\n",
    "    @staticmethod\n",
    "    def _cost(y: np.ndarray, y_hat: np.ndarray) -> float:\n",
    "        return 0.5 * np.average((y_hat - y) ** 2)\n",
    "\n",
    "\n",
    "    @staticmethod\n",
    "    def _cost_weight_derivative(y: np.ndarray, y_hat: np.ndarray, x: np.ndarray) -> np.ndarray:\n",
    "        return np.average((y_hat - y).reshape(-1, 1) * x, axis=0)\n",
    "\n",
    "\n",
    "    @staticmethod\n",
    "    def _cost_bias_derivative(y: np.ndarray, y_hat: np.ndarray) -> float:\n",
    "        return np.average(y_hat - y)"
   ]
  },
  {
   "attachments": {},
   "cell_type": "markdown",
   "metadata": {},
   "source": [
    "## 2. Test model on generated dummy data"
   ]
  },
  {
   "cell_type": "code",
   "execution_count": 3,
   "metadata": {},
   "outputs": [],
   "source": [
    "X, y = make_regression(200, 10, noise=.2, random_state=0)"
   ]
  },
  {
   "cell_type": "code",
   "execution_count": 4,
   "metadata": {},
   "outputs": [
    {
     "name": "stdout",
     "output_type": "stream",
     "text": [
      "Epoch[0]: cost: 8976.47745\n",
      "Epoch[20]: cost: 111.58302\n",
      "Epoch[40]: cost: 2.36607\n",
      "Epoch[60]: cost: 0.09294\n",
      "Epoch[80]: cost: 0.02177\n",
      "Epoch[100]: cost: 0.01894\n",
      "Epoch[120]: cost: 0.01881\n",
      "Epoch[140]: cost: 0.01880\n",
      "Epoch[160]: cost: 0.01880\n",
      "Epoch[180]: cost: 0.01880\n"
     ]
    }
   ],
   "source": [
    "alpha = 1e-1\n",
    "epochs = 200\n",
    "\n",
    "model = MultivariableLinearRegressor(alpha=alpha, epochs=epochs, rng_seed=42)\n",
    "costs = model.fit(X, y)\n"
   ]
  },
  {
   "cell_type": "code",
   "execution_count": 5,
   "metadata": {},
   "outputs": [
    {
     "data": {
      "image/png": "[encoded data removed]",
      "text/plain": [
       "<Figure size 640x480 with 1 Axes>"
      ]
     },
     "metadata": {},
     "output_type": "display_data"
    }
   ],
   "source": [
    "fig, ax = plt.subplots()\n",
    "\n",
    "ax.plot(np.arange(epochs), costs)\n",
    "\n",
    "ax.set_ylabel(\"Cost\")\n",
    "ax.set_xlabel(\"# Epochs\")\n",
    "ax.set_title(\"Learning curve\")\n",
    "\n",
    "plt.show()"
   ]
  },
  {
   "attachments": {},
   "cell_type": "markdown",
   "metadata": {},
   "source": [
    "## 3. Test model on toy dataset"
   ]
  },
  {
   "cell_type": "code",
   "execution_count": 6,
   "metadata": {},
   "outputs": [
    {
     "name": "stdout",
     "output_type": "stream",
     "text": [
      "          age       sex       bmi        bp        s1        s2        s3  \\\n",
      "0    0.038076  0.050680  0.061696  0.021872 -0.044223 -0.034821 -0.043401   \n",
      "1   -0.001882 -0.044642 -0.051474 -0.026328 -0.008449 -0.019163  0.074412   \n",
      "2    0.085299  0.050680  0.044451 -0.005670 -0.045599 -0.034194 -0.032356   \n",
      "3   -0.089063 -0.044642 -0.011595 -0.036656  0.012191  0.024991 -0.036038   \n",
      "4    0.005383 -0.044642 -0.036385  0.021872  0.003935  0.015596  0.008142   \n",
      "..        ...       ...       ...       ...       ...       ...       ...   \n",
      "437  0.041708  0.050680  0.019662  0.059744 -0.005697 -0.002566 -0.028674   \n",
      "438 -0.005515  0.050680 -0.015906 -0.067642  0.049341  0.079165 -0.028674   \n",
      "439  0.041708  0.050680 -0.015906  0.017293 -0.037344 -0.013840 -0.024993   \n",
      "440 -0.045472 -0.044642  0.039062  0.001215  0.016318  0.015283 -0.028674   \n",
      "441 -0.045472 -0.044642 -0.073030 -0.081413  0.083740  0.027809  0.173816   \n",
      "\n",
      "           s4        s5        s6  \n",
      "0   -0.002592  0.019907 -0.017646  \n",
      "1   -0.039493 -0.068332 -0.092204  \n",
      "2   -0.002592  0.002861 -0.025930  \n",
      "3    0.034309  0.022688 -0.009362  \n",
      "4   -0.002592 -0.031988 -0.046641  \n",
      "..        ...       ...       ...  \n",
      "437 -0.002592  0.031193  0.007207  \n",
      "438  0.034309 -0.018114  0.044485  \n",
      "439 -0.011080 -0.046883  0.015491  \n",
      "440  0.026560  0.044529 -0.025930  \n",
      "441 -0.039493 -0.004222  0.003064  \n",
      "\n",
      "[442 rows x 10 columns]\n",
      "0      151.0\n",
      "1       75.0\n",
      "2      141.0\n",
      "3      206.0\n",
      "4      135.0\n",
      "       ...  \n",
      "437    178.0\n",
      "438    104.0\n",
      "439    132.0\n",
      "440    220.0\n",
      "441     57.0\n",
      "Name: target, Length: 442, dtype: float64\n"
     ]
    }
   ],
   "source": [
    "X, y = load_diabetes(return_X_y=True, as_frame=True)\n",
    "\n",
    "print(X)\n",
    "print(y)"
   ]
  },
  {
   "cell_type": "code",
   "execution_count": 7,
   "metadata": {},
   "outputs": [
    {
     "name": "stdout",
     "output_type": "stream",
     "text": [
      "331 331\n"
     ]
    }
   ],
   "source": [
    "X_train, X_test, y_train,  y_test = train_test_split(X, y, random_state=0)\n",
    "\n",
    "print(len(X_train), len(y_train))"
   ]
  },
  {
   "cell_type": "code",
   "execution_count": 8,
   "metadata": {},
   "outputs": [
    {
     "name": "stdout",
     "output_type": "stream",
     "text": [
      "Epoch[0]: cost: 14605.19263\n",
      "Epoch[100]: cost: 1982.27844\n",
      "Epoch[200]: cost: 1693.95512\n",
      "Epoch[300]: cost: 1575.37020\n",
      "Epoch[400]: cost: 1510.01359\n",
      "Epoch[500]: cost: 1470.03999\n",
      "Epoch[600]: cost: 1444.73481\n",
      "Epoch[700]: cost: 1428.45513\n",
      "Epoch[800]: cost: 1417.85662\n",
      "Epoch[900]: cost: 1410.87933\n"
     ]
    }
   ],
   "source": [
    "alpha = 1\n",
    "epochs = 1000\n",
    "\n",
    "model = MultivariableLinearRegressor(alpha=alpha, epochs=epochs, rng_seed=42)\n",
    "costs = model.fit(X_train.values, y_train.values)"
   ]
  },
  {
   "cell_type": "code",
   "execution_count": 9,
   "metadata": {},
   "outputs": [
    {
     "data": {
      "image/png": "[encoded data removed]",
      "text/plain": [
       "<Figure size 640x480 with 1 Axes>"
      ]
     },
     "metadata": {},
     "output_type": "display_data"
    }
   ],
   "source": [
    "fig, ax = plt.subplots()\n",
    "\n",
    "ax.plot(np.arange(epochs), costs)\n",
    "\n",
    "ax.set_ylabel(\"Cost\")\n",
    "ax.set_xlabel(\"# Epochs\")\n",
    "ax.set_title(\"Learning curve\")\n",
    "\n",
    "plt.show()"
   ]
  },
  {
   "cell_type": "code",
   "execution_count": 10,
   "metadata": {},
   "outputs": [
    {
     "data": {
      "text/plain": [
       "1565.010193020808"
      ]
     },
     "execution_count": 10,
     "metadata": {},
     "output_type": "execute_result"
    }
   ],
   "source": [
    ".5 * np.average((y_test.values - model.predict(X_test.values)) ** 2)"
   ]
  },
  {
   "cell_type": "code",
   "execution_count": 11,
   "metadata": {},
   "outputs": [],
   "source": [
    "def rsquared(y, y_hat):\n",
    "    return 1 - (np.sum((y - y_hat) ** 2) / np.sum((y - np.mean(y)) ** 2))"
   ]
  },
  {
   "cell_type": "code",
   "execution_count": 12,
   "metadata": {},
   "outputs": [
    {
     "name": "stdout",
     "output_type": "stream",
     "text": [
      "Epoch[0]: cost: 14584.62313\n",
      "R^2 for fitted linear regressor: 0.3695085388773215\n",
      "R^2 for randomly initialized linear regressor: 0.007646843928582281\n"
     ]
    }
   ],
   "source": [
    "dumb_model = MultivariableLinearRegressor(alpha=1, epochs=1, rng_seed=0)\n",
    "dumb_model.fit(X_train.values, y_train.values)\n",
    "\n",
    "print(f\"R^2 for fitted linear regressor: {rsquared(y_test.values, model.predict(X_test.values))}\")\n",
    "print(f\"R^2 for randomly initialized linear regressor: {rsquared(y_test.values, dumb_model.predict(X_test.values))}\")"
   ]
  }
 ],
 "metadata": {
  "kernelspec": {
   "display_name": "coursera-ml",
   "language": "python",
   "name": "python3"
  },
  "language_info": {
   "codemirror_mode": {
    "name": "ipython",
    "version": 3
   },
   "file_extension": ".py",
   "mimetype": "text/x-python",
   "name": "python",
   "nbconvert_exporter": "python",
   "pygments_lexer": "ipython3",
   "version": "3.10.11"
  },
  "orig_nbformat": 4
 },
 "nbformat": 4,
 "nbformat_minor": 2
}
