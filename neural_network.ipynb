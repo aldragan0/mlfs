{
 "cells": [
  {
   "cell_type": "code",
   "execution_count": 1,
   "metadata": {},
   "outputs": [],
   "source": [
    "from __future__ import annotations\n",
    "\n",
    "from typing import Tuple, Callable, List\n",
    "\n",
    "import numpy as np\n",
    "import matplotlib.pyplot as plt\n",
    "\n",
    "import tensorflow as tf\n",
    "import tensorflow.keras as keras"
   ]
  },
  {
   "cell_type": "code",
   "execution_count": 2,
   "metadata": {},
   "outputs": [],
   "source": [
    "# Mean Squared Error\n",
    "\n",
    "def mean_squared_error_loss(y: np.ndarray, y_hat: np.ndarray) -> np.ndarray:\n",
    "    return .5 * (y_hat - y) ** 2\n",
    "\n",
    "\n",
    "def mean_squared_error_loss_derivative(y: np.ndarray, y_hat: np.ndarray) -> np.ndarray:\n",
    "    return (y_hat - y)"
   ]
  },
  {
   "cell_type": "code",
   "execution_count": 3,
   "metadata": {},
   "outputs": [],
   "source": [
    "# Softmax\n",
    "\n",
    "def logsumexp(x: np.ndarray) -> np.ndarray:\n",
    "    c = np.max(x, axis=-1, keepdims=True)\n",
    "    return c + np.log(np.sum(np.exp(x - c), axis=-1, keepdims=True))\n",
    "\n",
    "\n",
    "def softmax(x: np.ndarray) -> np.ndarray:\n",
    "    return np.exp(x - logsumexp(x))\n",
    "\n",
    "\n",
    "def softmax_derivative(z: np.ndarray, y: np.ndarray) -> np.ndarray:\n",
    "    s = softmax(z)\n",
    "    c = y - s\n",
    "    a = np.sum(s * y, axis=-1, keepdims=True) # will be a sparse array that can be flattened\n",
    "\n",
    "    return a * c"
   ]
  },
  {
   "cell_type": "code",
   "execution_count": 4,
   "metadata": {},
   "outputs": [],
   "source": [
    "# Categorical Crossentropy\n",
    "\n",
    "def categorical_crossentropy(y: np.ndarray, y_hat: np.ndarray) -> np.ndarray:\n",
    "    return -np.sum(y * np.log(y_hat), axis=-1)\n",
    "\n",
    "\n",
    "def categorical_crossentropy_derivative(y: np.ndarray, y_hat: np.ndarray) -> np.ndarray:\n",
    "    return - np.max(y / y_hat, axis=-1, keepdims=True)"
   ]
  },
  {
   "cell_type": "code",
   "execution_count": 5,
   "metadata": {},
   "outputs": [],
   "source": [
    "# Categorical Crossentropy from Logits\n",
    "\n",
    "def categorical_crossentropy_from_logits(y: np.ndarray, logits: np.ndarray) -> np.ndarray:\n",
    "    y_hat = logits - logsumexp(logits)\n",
    "    return -np.sum(y * y_hat, axis=-1)\n",
    "\n",
    "\n",
    "def categorical_crossentropy_derivative_from_logits(y: np.ndarray, logits: np.ndarray) -> np.ndarray:\n",
    "    y_hat = softmax(logits)\n",
    "    return y_hat - y"
   ]
  },
  {
   "cell_type": "code",
   "execution_count": 6,
   "metadata": {},
   "outputs": [],
   "source": [
    "# Cost\n",
    "\n",
    "def cost(y: np.ndarray, y_hat: np.ndarray, loss_fn: Callable[[np.ndarray, np.ndarray], np.ndarray]) -> float:\n",
    "    return np.average(loss_fn(y, y_hat))"
   ]
  },
  {
   "cell_type": "code",
   "execution_count": 7,
   "metadata": {},
   "outputs": [
    {
     "name": "stdout",
     "output_type": "stream",
     "text": [
      "[[0.01165623 0.03168492 0.08612854 0.23412166 0.63640865]\n",
      " [0.63640865 0.23412166 0.08612854 0.03168492 0.01165623]]\n",
      "[[1 0 0 0 0]\n",
      " [0 0 0 0 1]]\n",
      "[[-0.98834377  0.03168492  0.08612854  0.23412166  0.63640865]\n",
      " [ 0.63640865  0.23412166  0.08612854  0.03168492 -0.98834377]]\n",
      "[[-0.98834377  0.03168492  0.08612854  0.23412166  0.63640865]\n",
      " [ 0.63640865  0.23412166  0.08612854  0.03168492 -0.98834377]]\n",
      "4.024092481453339\n",
      "4.024092481453339\n"
     ]
    }
   ],
   "source": [
    "# TODO: this should be a test\n",
    "z = np.asarray([[1, 2, 3, 4, 5], [5, 4, 3, 2, 1]]).astype(float)\n",
    "y_hat = softmax(z)\n",
    "y = np.asarray([[1, 0, 0, 0, 0], [0, 0, 0, 0, 1]])\n",
    "\n",
    "print(y_hat)\n",
    "print(y)\n",
    "\n",
    "dy_simple = categorical_crossentropy_derivative_from_logits(y, z)\n",
    "dy_complex = categorical_crossentropy_derivative(y, y_hat) * softmax_derivative(z, y)\n",
    "print(dy_simple)\n",
    "print(dy_complex)\n",
    "\n",
    "for i in range(dy_simple.shape[0]):\n",
    "    for j in range(dy_simple.shape[1]):\n",
    "        assert abs(dy_simple[i][j] - dy_complex[i][j]) < 1e-12\n",
    "\n",
    "for _ in range(100):\n",
    "    z -= np.sum(categorical_crossentropy_derivative(y, y_hat) * softmax_derivative(z, y), axis=0)\n",
    "    y_hat = softmax(z)\n",
    "\n",
    "print(cost(y, y_hat, categorical_crossentropy))\n",
    "print(cost(y, z, categorical_crossentropy_from_logits))"
   ]
  },
  {
   "cell_type": "code",
   "execution_count": 8,
   "metadata": {},
   "outputs": [
    {
     "name": "stdout",
     "output_type": "stream",
     "text": [
      "[-0.98834377  0.03168492  0.08612854  0.23412166  0.63640865]\n",
      "[-0.98834377  0.03168492  0.08612854  0.23412166  0.63640865]\n"
     ]
    }
   ],
   "source": [
    "# TODO: this should be a test\n",
    "z = np.arange(5).astype(float)\n",
    "y_hat = softmax(z)\n",
    "\n",
    "y = np.asarray([1, 0, 0, 0, 0])\n",
    "\n",
    "dy_simple = categorical_crossentropy_derivative_from_logits(y, z)\n",
    "dy_complex = categorical_crossentropy_derivative(y, y_hat) * softmax_derivative(z, y)\n",
    "\n",
    "print(dy_simple)\n",
    "print(dy_complex)"
   ]
  },
  {
   "cell_type": "code",
   "execution_count": 9,
   "metadata": {},
   "outputs": [],
   "source": [
    "class Activation(object):\n",
    "    def __call__(self, x: np.ndarray) -> np.ndarray:\n",
    "        raise NotImplementedError()\n",
    "\n",
    "\n",
    "    def derivative(self, x: np.ndarray) -> np.ndarray:\n",
    "        raise NotImplementedError()\n",
    "\n",
    "\n",
    "class Sigmoid(Activation):\n",
    "    def __call__(self, x: np.ndarray) -> np.ndarray:\n",
    "        return 1 / (1 + np.exp(-x))\n",
    "\n",
    "    \n",
    "    def derivative(self, x: np.ndarray) -> np.ndarray:\n",
    "        return np.exp(x) / (1 + np.exp(x)) ** 2\n",
    "\n",
    "\n",
    "class Linear(Activation):\n",
    "    def __call__(self, x: np.ndarray) -> np.ndarray:\n",
    "        return x\n",
    "\n",
    "\n",
    "    def derivative(self, x: np.ndarray) -> np.ndarray:\n",
    "        return np.ones_like(x)\n",
    "\n",
    "\n",
    "class Relu(Activation):\n",
    "    def __call__(self, x: np.ndarray) -> np.ndarray:\n",
    "        return (x > 0).astype(np.float32) * x\n",
    "\n",
    "    \n",
    "    def derivative(self, x: np.ndarray) -> np.ndarray:\n",
    "        return (x > 0).astype(np.float32)"
   ]
  },
  {
   "cell_type": "code",
   "execution_count": 10,
   "metadata": {},
   "outputs": [],
   "source": [
    "class Layer:\n",
    "    pass\n",
    "\n",
    "class DenseLayer(Layer):\n",
    "\n",
    "    def __init__(self, size: Tuple[int, int], activation_fn: Activation=Sigmoid(), rng_seed: int=None):\n",
    "        super().__init__()\n",
    "        self.__size = size[1]\n",
    "        self.__rng = np.random.default_rng() if rng_seed is None else np.random.default_rng(rng_seed)\n",
    "        self.__activation = activation_fn\n",
    "        prev_layer_size = size[0]\n",
    "\n",
    "        self.__w = self.__rng.standard_normal(size=(prev_layer_size, self.__size)) * np.sqrt(2 / prev_layer_size)\n",
    "        self.__b = np.zeros(self.__size)\n",
    "    \n",
    "\n",
    "    def set_weights(self, weights: Tuple[np.ndarray, np.ndarray]) -> None:\n",
    "        self.__w, self.__b = weights\n",
    "\n",
    "\n",
    "    def get_weights(self) -> Tuple[np.ndarray, np.ndarray]:\n",
    "        return self.__w, self.__b\n",
    "\n",
    "\n",
    "    def get_activation_fn(self) -> Activation:\n",
    "        return self.__activation\n",
    "\n",
    "\n",
    "    def get_activation(self) -> np.ndarray:\n",
    "        return self.__z\n",
    "    \n",
    "\n",
    "    def get_prev_activation(self) -> np.ndarray:\n",
    "        return self.__prev_activation\n",
    "\n",
    "    \n",
    "    def __call__(self, X: np.ndarray) -> np.ndarray:\n",
    "        \"\"\"\n",
    "            Defines the forward pass through the layer\n",
    "        \"\"\"\n",
    "        self.__prev_activation = X\n",
    "        self.__z = np.matmul(X, self.__w) + self.__b\n",
    "        return self.__activation(self.__z)"
   ]
  },
  {
   "cell_type": "code",
   "execution_count": 11,
   "metadata": {},
   "outputs": [],
   "source": [
    "rng = np.random.default_rng(0)\n",
    "\n",
    "X = rng.random(50).reshape((5, 10))\n",
    "y = rng.normal(size=5).reshape((5, 1))\n",
    "\n",
    "layer1 = DenseLayer((X.shape[1], 5), Sigmoid(), rng_seed=0)\n",
    "layer2 = DenseLayer((5, 2), Sigmoid(), rng_seed=0)\n",
    "layer3 = DenseLayer((2, 1), Sigmoid(), rng_seed=0)"
   ]
  },
  {
   "cell_type": "code",
   "execution_count": 12,
   "metadata": {},
   "outputs": [
    {
     "name": "stdout",
     "output_type": "stream",
     "text": [
      "layer1 activations shape: (5, 5)\n",
      "layer2 activations shape: (5, 2)\n",
      "layer3 activations shape: (5, 1)\n"
     ]
    },
    {
     "data": {
      "text/plain": [
       "0.6435413715367675"
      ]
     },
     "execution_count": 12,
     "metadata": {},
     "output_type": "execute_result"
    }
   ],
   "source": [
    "# X [5, 10] * W [10, 5] + b [1, 5] =\n",
    "# = X*W [5, 5] + b [1, 5] (b is broadcast to all rows so [5, 5]) =\n",
    "# = X*W+b [5, 5] =\n",
    "# = sigmoid(X*W+b) [5, 5]\n",
    "\n",
    "a1 = layer1(X)\n",
    "print(f'layer1 activations shape: {a1.shape}')\n",
    "\n",
    "\n",
    "# X [5, 5] * W [5, 2] + b [1, 2] =\n",
    "# = X*W [5, 2] + b [1, 2] (b is broadcast to all rows so [5, 2]) =\n",
    "# = X*W+b [5, 2] =\n",
    "# = sigmoid(X*W+b) [5, 2]\n",
    "a2 = layer2(a1)\n",
    "print(f'layer2 activations shape: {a2.shape}')\n",
    "\n",
    "\n",
    "# X [5, 2] * W [2, 1] + b [1, 1] =\n",
    "# = X*W [5, 1] + b [1, 1] (b is broadcast to all rows so [5, 1]) =\n",
    "# = X*W+b [5, 1] =\n",
    "# = sigmoid(X*W+b) [5, 1]\n",
    "y_hat = layer3(a2)\n",
    "print(f'layer3 activations shape: {y_hat.shape}')\n",
    "\n",
    "\n",
    "error = cost(y, y_hat, mean_squared_error_loss)\n",
    "error"
   ]
  },
  {
   "cell_type": "code",
   "execution_count": 13,
   "metadata": {},
   "outputs": [
    {
     "name": "stdout",
     "output_type": "stream",
     "text": [
      "dc_da3 shape: (5, 1)\n",
      "dc_dz3 shape: (5, 1)\n",
      "a2 shape: (5, 2)\n",
      "w3 shape: (2, 1), dc_dw3 shape: (2, 1)\n",
      "dc_da2 shape: (5, 2)\n",
      "dc_dz2 shape: (5, 2)\n",
      "a1 shape: (5, 5)\n",
      "w2 shape: (5, 2), dc_dw2 shape: (5, 2)\n",
      "dc_da1 shape: (5, 5)\n",
      "dc_dz1 shape: (5, 5)\n",
      "a0 shape: (5, 10)\n",
      "w1 shape: (10, 5), dc_dw1 shape: (10, 5)\n"
     ]
    }
   ],
   "source": [
    "# Layer L\n",
    "\n",
    "dc_da3 = mean_squared_error_loss_derivative(y, y_hat)\n",
    "print(f\"dc_da3 shape: {dc_da3.shape}\")\n",
    "\n",
    "a2 = layer3.get_prev_activation()\n",
    "\n",
    "dc_dz3 = dc_da3 * layer3.get_activation_fn().derivative(layer3.get_activation())\n",
    "print(f\"dc_dz3 shape: {dc_dz3.shape}\")\n",
    "print(f\"a2 shape: {a2.shape}\")\n",
    "\n",
    "dc_dw3 = (1 / dc_dz3.shape[0]) * np.matmul(a2.T, dc_dz3)\n",
    "\n",
    "w3, _ = layer3.get_weights()\n",
    "print(f\"w3 shape: {w3.shape}, dc_dw3 shape: {dc_dw3.shape}\")\n",
    "\n",
    "# Layer L - 1\n",
    "dc_da2 = np.dot(dc_dz3, w3.T)\n",
    "print(f\"dc_da2 shape: {dc_da2.shape}\")\n",
    "\n",
    "a1 = layer2.get_prev_activation()\n",
    "\n",
    "dc_dz2 = dc_da2 * layer2.get_activation_fn().derivative(layer2.get_activation())\n",
    "print(f\"dc_dz2 shape: {dc_dz2.shape}\")\n",
    "print(f\"a1 shape: {a1.shape}\")\n",
    "\n",
    "dc_dw2 = (1 / dc_dz2.shape[0]) * np.matmul(a1.T, dc_dz2)\n",
    "\n",
    "w2, _ = layer2.get_weights()\n",
    "print(f\"w2 shape: {w2.shape}, dc_dw2 shape: {dc_dw2.shape}\")\n",
    "\n",
    "# Layer L - 2\n",
    "dc_da1 = np.matmul(dc_dz2, w2.T)\n",
    "print(f\"dc_da1 shape: {dc_da1.shape}\")\n",
    "\n",
    "a0 = layer1.get_prev_activation()\n",
    "\n",
    "dc_dz1 = dc_da1 * layer1.get_activation_fn().derivative(layer1.get_activation())\n",
    "print(f\"dc_dz1 shape: {dc_dz1.shape}\")\n",
    "print(f\"a0 shape: {a0.shape}\")\n",
    "\n",
    "dc_dw1 = (1 / dc_dz1.shape[0]) * np.matmul(a0.T, dc_dz1)\n",
    "\n",
    "w1, _ = layer1.get_weights()\n",
    "print(f\"w1 shape: {w1.shape}, dc_dw1 shape: {dc_dw1.shape}\")"
   ]
  },
  {
   "cell_type": "code",
   "execution_count": 14,
   "metadata": {},
   "outputs": [],
   "source": [
    "class NeuralNetwork(object):\n",
    "\n",
    "    def __init__(self, layers, lr, loss_fn, loss_derivative):\n",
    "        self.__layers = layers\n",
    "        self.__loss = loss_fn\n",
    "        self.__loss_derivative = loss_derivative\n",
    "        self.__alpha = lr\n",
    "\n",
    "\n",
    "    def fit(self, X: np.ndarray, y: np.ndarray, num_epochs: int) -> List[float]:\n",
    "        errors = []\n",
    "\n",
    "        for i in range(num_epochs):\n",
    "            y_hat = self.__forward_prop(X)\n",
    "            error = cost(y, y_hat, self.__loss)\n",
    "            errors.append(error)\n",
    "\n",
    "            if i % (num_epochs / 10) == 0:\n",
    "                print(f'Iter[{i}] cost: {error}')\n",
    "\n",
    "            self.__back_prop(y, y_hat)\n",
    "        \n",
    "        return errors\n",
    "\n",
    "\n",
    "    def predict(self, X: np.ndarray) -> np.ndarray:\n",
    "        return self.__forward_prop(X)\n",
    "\n",
    "\n",
    "    def __forward_prop(self, X: np.ndarray) -> np.ndarray:\n",
    "        a = X\n",
    "        for layer in self.__layers:\n",
    "            a = layer(a)\n",
    "        \n",
    "        return a\n",
    "\n",
    "\n",
    "    def __back_prop(self, y: np.ndarray, y_hat: np.ndarray) -> None:\n",
    "        dc_da = self.__loss_derivative(y, y_hat)\n",
    "\n",
    "        for i in range(len(self.__layers) - 1, -1, -1):\n",
    "            layer = self.__layers[i]\n",
    "            z = layer.get_activation()\n",
    "            a_prev = layer.get_prev_activation()\n",
    "            activation_fn = layer.get_activation_fn()\n",
    "            w, b = layer.get_weights()\n",
    "\n",
    "            dc_dz = dc_da * activation_fn.derivative(z)\n",
    "\n",
    "            dc_dw = np.matmul(a_prev.T, dc_dz)\n",
    "            dc_db = np.average(dc_dz, axis=0)\n",
    "\n",
    "            dc_da = np.dot(dc_dz, w.T)\n",
    "\n",
    "            w -= (self.__alpha / dc_dz.shape[0]) * dc_dw\n",
    "            b -= self.__alpha * dc_db\n",
    "\n",
    "            layer.set_weights((w, b))"
   ]
  },
  {
   "cell_type": "code",
   "execution_count": 15,
   "metadata": {},
   "outputs": [
    {
     "name": "stdout",
     "output_type": "stream",
     "text": [
      "(60000, 784)\n",
      "(10000, 784)\n",
      "(60000, 10)\n",
      "(10000, 10)\n"
     ]
    }
   ],
   "source": [
    "(x_train, y_train), (x_test, y_test) = keras.datasets.mnist.load_data()\n",
    "\n",
    "x_train = x_train.astype(np.float32).reshape(-1, 28 * 28) / 255.0\n",
    "x_test = x_test.astype(np.float32).reshape(-1, 28 * 28) / 255.0\n",
    "\n",
    "print(x_train.shape)\n",
    "print(x_test.shape)\n",
    "\n",
    "y_train_temp = np.zeros((y_train.shape[0], 10))\n",
    "for i in range(len(y_train)):\n",
    "    y_train_temp[i, y_train[i]] = 1\n",
    "y_train = y_train_temp\n",
    "\n",
    "y_test_temp = np.zeros((y_test.shape[0], 10))\n",
    "for i in range(len(y_test)):\n",
    "    y_test_temp[i, y_test[i]] = 1\n",
    "y_test = y_test_temp\n",
    "\n",
    "print(y_train.shape)\n",
    "print(y_test.shape)"
   ]
  },
  {
   "cell_type": "code",
   "execution_count": 16,
   "metadata": {},
   "outputs": [
    {
     "name": "stdout",
     "output_type": "stream",
     "text": [
      "[[0. 0. 0. 0. 0. 1. 0. 0. 0. 0.]\n",
      " [1. 0. 0. 0. 0. 0. 0. 0. 0. 0.]\n",
      " [0. 0. 0. 0. 1. 0. 0. 0. 0. 0.]\n",
      " [0. 1. 0. 0. 0. 0. 0. 0. 0. 0.]\n",
      " [0. 0. 0. 0. 0. 0. 0. 0. 0. 1.]]\n",
      "[[0. 0. 0. 0. 0. 0. 0. 1. 0. 0.]\n",
      " [0. 0. 1. 0. 0. 0. 0. 0. 0. 0.]\n",
      " [0. 1. 0. 0. 0. 0. 0. 0. 0. 0.]\n",
      " [1. 0. 0. 0. 0. 0. 0. 0. 0. 0.]\n",
      " [0. 0. 0. 0. 1. 0. 0. 0. 0. 0.]]\n"
     ]
    }
   ],
   "source": [
    "print(y_train[0:5])\n",
    "print(y_test[0:5])"
   ]
  },
  {
   "cell_type": "code",
   "execution_count": 17,
   "metadata": {},
   "outputs": [
    {
     "name": "stdout",
     "output_type": "stream",
     "text": [
      "Iter[0] cost: 2.424698493286523\n",
      "Iter[10] cost: 2.092756039912454\n",
      "Iter[20] cost: 1.8382835088603404\n",
      "Iter[30] cost: 1.5732895183858826\n",
      "Iter[40] cost: 1.2815092739073126\n",
      "Iter[50] cost: 1.022274695881179\n",
      "Iter[60] cost: 0.8502256408534357\n",
      "Iter[70] cost: 0.7378234170802949\n",
      "Iter[80] cost: 0.6589234775782974\n",
      "Iter[90] cost: 0.6002947751830296\n"
     ]
    }
   ],
   "source": [
    "lr = 1e-1\n",
    "num_epochs = 100\n",
    "\n",
    "layers = [\n",
    "    DenseLayer((x_train.shape[1], 16), Relu(), rng_seed=0),\n",
    "    DenseLayer((16, 16), Relu(), rng_seed=0),\n",
    "    DenseLayer((16, 10), Linear(), rng_seed=0),\n",
    "]\n",
    "model = NeuralNetwork(layers, lr, categorical_crossentropy_from_logits, categorical_crossentropy_derivative_from_logits)\n",
    "errors = model.fit(x_train, y_train, num_epochs=num_epochs)"
   ]
  },
  {
   "cell_type": "code",
   "execution_count": 18,
   "metadata": {},
   "outputs": [
    {
     "data": {
      "image/png": "[encoded data removed]",
      "text/plain": [
       "<Figure size 640x480 with 1 Axes>"
      ]
     },
     "metadata": {},
     "output_type": "display_data"
    }
   ],
   "source": [
    "fig, ax = plt.subplots()\n",
    "\n",
    "ax.plot(np.arange(len(errors)), errors)\n",
    "\n",
    "plt.show()"
   ]
  },
  {
   "cell_type": "code",
   "execution_count": 19,
   "metadata": {},
   "outputs": [
    {
     "name": "stdout",
     "output_type": "stream",
     "text": [
      "0.5232196052914823\n",
      "[7 2 1 0 4]\n",
      "[7 2 1 0 4]\n"
     ]
    }
   ],
   "source": [
    "y_hat = model.predict(x_test)\n",
    "print(cost(y_test, y_hat, categorical_crossentropy_from_logits))\n",
    "print(np.argmax(y_test[:5], axis=1))\n",
    "print(np.argmax(y_hat[:5], axis=1))"
   ]
  },
  {
   "cell_type": "code",
   "execution_count": 20,
   "metadata": {},
   "outputs": [
    {
     "data": {
      "image/png": "[encoded data removed]",
      "text/plain": [
       "<Figure size 640x480 with 1 Axes>"
      ]
     },
     "metadata": {},
     "output_type": "display_data"
    }
   ],
   "source": [
    "fig, ax = plt.subplots()\n",
    "\n",
    "ax.hist(np.argmax(y_test, axis=1), label='actual', bins=10)\n",
    "ax.hist(np.argmax(y_hat, axis=1), label='predicted', bins=10)\n",
    "\n",
    "ax.legend()\n",
    "ax.set_xticks(np.arange(0, 10))\n",
    "\n",
    "plt.show()"
   ]
  },
  {
   "cell_type": "code",
   "execution_count": 21,
   "metadata": {},
   "outputs": [
    {
     "name": "stdout",
     "output_type": "stream",
     "text": [
      "Epoch 1/100\n",
      "1/1 [==============================] - 3s 3s/step - loss: 2.3240\n",
      "Epoch 2/100\n",
      "1/1 [==============================] - 0s 129ms/step - loss: 2.3087\n",
      "Epoch 3/100\n",
      "1/1 [==============================] - 0s 131ms/step - loss: 2.2979\n",
      "Epoch 4/100\n",
      "1/1 [==============================] - 0s 154ms/step - loss: 2.2889\n",
      "Epoch 5/100\n",
      "1/1 [==============================] - 0s 249ms/step - loss: 2.2807\n",
      "Epoch 6/100\n",
      "1/1 [==============================] - 0s 170ms/step - loss: 2.2728\n",
      "Epoch 7/100\n",
      "1/1 [==============================] - 0s 197ms/step - loss: 2.2647\n",
      "Epoch 8/100\n",
      "1/1 [==============================] - 0s 190ms/step - loss: 2.2563\n",
      "Epoch 9/100\n",
      "1/1 [==============================] - 0s 224ms/step - loss: 2.2472\n",
      "Epoch 10/100\n",
      "1/1 [==============================] - 0s 226ms/step - loss: 2.2374\n",
      "Epoch 11/100\n",
      "1/1 [==============================] - 0s 142ms/step - loss: 2.2267\n",
      "Epoch 12/100\n",
      "1/1 [==============================] - 0s 164ms/step - loss: 2.2149\n",
      "Epoch 13/100\n",
      "1/1 [==============================] - 0s 188ms/step - loss: 2.2020\n",
      "Epoch 14/100\n",
      "1/1 [==============================] - 0s 132ms/step - loss: 2.1877\n",
      "Epoch 15/100\n",
      "1/1 [==============================] - 0s 132ms/step - loss: 2.1719\n",
      "Epoch 16/100\n",
      "1/1 [==============================] - 0s 134ms/step - loss: 2.1547\n",
      "Epoch 17/100\n",
      "1/1 [==============================] - 0s 125ms/step - loss: 2.1362\n",
      "Epoch 18/100\n",
      "1/1 [==============================] - 0s 112ms/step - loss: 2.1169\n",
      "Epoch 19/100\n",
      "1/1 [==============================] - 0s 107ms/step - loss: 2.0971\n",
      "Epoch 20/100\n",
      "1/1 [==============================] - 0s 108ms/step - loss: 2.0770\n",
      "Epoch 21/100\n",
      "1/1 [==============================] - 0s 111ms/step - loss: 2.0566\n",
      "Epoch 22/100\n",
      "1/1 [==============================] - 0s 113ms/step - loss: 2.0360\n",
      "Epoch 23/100\n",
      "1/1 [==============================] - 0s 93ms/step - loss: 2.0153\n",
      "Epoch 24/100\n",
      "1/1 [==============================] - 0s 113ms/step - loss: 1.9945\n",
      "Epoch 25/100\n",
      "1/1 [==============================] - 0s 100ms/step - loss: 1.9736\n",
      "Epoch 26/100\n",
      "1/1 [==============================] - 0s 105ms/step - loss: 1.9525\n",
      "Epoch 27/100\n",
      "1/1 [==============================] - 0s 107ms/step - loss: 1.9313\n",
      "Epoch 28/100\n",
      "1/1 [==============================] - 0s 109ms/step - loss: 1.9099\n",
      "Epoch 29/100\n",
      "1/1 [==============================] - 0s 107ms/step - loss: 1.8883\n",
      "Epoch 30/100\n",
      "1/1 [==============================] - 0s 103ms/step - loss: 1.8665\n",
      "Epoch 31/100\n",
      "1/1 [==============================] - 0s 110ms/step - loss: 1.8443\n",
      "Epoch 32/100\n",
      "1/1 [==============================] - 0s 111ms/step - loss: 1.8219\n",
      "Epoch 33/100\n",
      "1/1 [==============================] - 0s 122ms/step - loss: 1.7991\n",
      "Epoch 34/100\n",
      "1/1 [==============================] - 0s 131ms/step - loss: 1.7761\n",
      "Epoch 35/100\n",
      "1/1 [==============================] - 0s 124ms/step - loss: 1.7527\n",
      "Epoch 36/100\n",
      "1/1 [==============================] - 0s 101ms/step - loss: 1.7289\n",
      "Epoch 37/100\n",
      "1/1 [==============================] - 0s 118ms/step - loss: 1.7049\n",
      "Epoch 38/100\n",
      "1/1 [==============================] - 0s 115ms/step - loss: 1.6807\n",
      "Epoch 39/100\n",
      "1/1 [==============================] - 0s 112ms/step - loss: 1.6563\n",
      "Epoch 40/100\n",
      "1/1 [==============================] - 0s 112ms/step - loss: 1.6317\n",
      "Epoch 41/100\n",
      "1/1 [==============================] - 0s 121ms/step - loss: 1.6070\n",
      "Epoch 42/100\n",
      "1/1 [==============================] - 0s 120ms/step - loss: 1.5822\n",
      "Epoch 43/100\n",
      "1/1 [==============================] - 0s 132ms/step - loss: 1.5573\n",
      "Epoch 44/100\n",
      "1/1 [==============================] - 0s 115ms/step - loss: 1.5324\n",
      "Epoch 45/100\n",
      "1/1 [==============================] - 0s 109ms/step - loss: 1.5074\n",
      "Epoch 46/100\n",
      "1/1 [==============================] - 0s 91ms/step - loss: 1.4824\n",
      "Epoch 47/100\n",
      "1/1 [==============================] - 0s 94ms/step - loss: 1.4573\n",
      "Epoch 48/100\n",
      "1/1 [==============================] - 0s 86ms/step - loss: 1.4322\n",
      "Epoch 49/100\n",
      "1/1 [==============================] - 0s 91ms/step - loss: 1.4071\n",
      "Epoch 50/100\n",
      "1/1 [==============================] - 0s 96ms/step - loss: 1.3820\n",
      "Epoch 51/100\n",
      "1/1 [==============================] - 0s 95ms/step - loss: 1.3570\n",
      "Epoch 52/100\n",
      "1/1 [==============================] - 0s 91ms/step - loss: 1.3322\n",
      "Epoch 53/100\n",
      "1/1 [==============================] - 0s 98ms/step - loss: 1.3075\n",
      "Epoch 54/100\n",
      "1/1 [==============================] - 0s 95ms/step - loss: 1.2832\n",
      "Epoch 55/100\n",
      "1/1 [==============================] - 0s 94ms/step - loss: 1.2591\n",
      "Epoch 56/100\n",
      "1/1 [==============================] - 0s 85ms/step - loss: 1.2355\n",
      "Epoch 57/100\n",
      "1/1 [==============================] - 0s 89ms/step - loss: 1.2123\n",
      "Epoch 58/100\n",
      "1/1 [==============================] - 0s 96ms/step - loss: 1.1897\n",
      "Epoch 59/100\n",
      "1/1 [==============================] - 0s 95ms/step - loss: 1.1676\n",
      "Epoch 60/100\n",
      "1/1 [==============================] - 0s 97ms/step - loss: 1.1460\n",
      "Epoch 61/100\n",
      "1/1 [==============================] - 0s 94ms/step - loss: 1.1251\n",
      "Epoch 62/100\n",
      "1/1 [==============================] - 0s 95ms/step - loss: 1.1047\n",
      "Epoch 63/100\n",
      "1/1 [==============================] - 0s 95ms/step - loss: 1.0850\n",
      "Epoch 64/100\n",
      "1/1 [==============================] - 0s 100ms/step - loss: 1.0658\n",
      "Epoch 65/100\n",
      "1/1 [==============================] - 0s 102ms/step - loss: 1.0473\n",
      "Epoch 66/100\n",
      "1/1 [==============================] - 0s 97ms/step - loss: 1.0294\n",
      "Epoch 67/100\n",
      "1/1 [==============================] - 0s 91ms/step - loss: 1.0120\n",
      "Epoch 68/100\n",
      "1/1 [==============================] - 0s 101ms/step - loss: 0.9952\n",
      "Epoch 69/100\n",
      "1/1 [==============================] - 0s 118ms/step - loss: 0.9790\n",
      "Epoch 70/100\n",
      "1/1 [==============================] - 0s 104ms/step - loss: 0.9634\n",
      "Epoch 71/100\n",
      "1/1 [==============================] - 0s 108ms/step - loss: 0.9483\n",
      "Epoch 72/100\n",
      "1/1 [==============================] - 0s 92ms/step - loss: 0.9337\n",
      "Epoch 73/100\n",
      "1/1 [==============================] - 0s 93ms/step - loss: 0.9196\n",
      "Epoch 74/100\n",
      "1/1 [==============================] - 0s 101ms/step - loss: 0.9061\n",
      "Epoch 75/100\n",
      "1/1 [==============================] - 0s 103ms/step - loss: 0.8931\n",
      "Epoch 76/100\n",
      "1/1 [==============================] - 0s 98ms/step - loss: 0.8805\n",
      "Epoch 77/100\n",
      "1/1 [==============================] - 0s 96ms/step - loss: 0.8685\n",
      "Epoch 78/100\n",
      "1/1 [==============================] - 0s 97ms/step - loss: 0.8568\n",
      "Epoch 79/100\n",
      "1/1 [==============================] - 0s 94ms/step - loss: 0.8456\n",
      "Epoch 80/100\n",
      "1/1 [==============================] - 0s 114ms/step - loss: 0.8349\n",
      "Epoch 81/100\n",
      "1/1 [==============================] - 0s 87ms/step - loss: 0.8245\n",
      "Epoch 82/100\n",
      "1/1 [==============================] - 0s 102ms/step - loss: 0.8145\n",
      "Epoch 83/100\n",
      "1/1 [==============================] - 0s 106ms/step - loss: 0.8049\n",
      "Epoch 84/100\n",
      "1/1 [==============================] - 0s 123ms/step - loss: 0.7956\n",
      "Epoch 85/100\n",
      "1/1 [==============================] - 0s 82ms/step - loss: 0.7867\n",
      "Epoch 86/100\n",
      "1/1 [==============================] - 0s 81ms/step - loss: 0.7781\n",
      "Epoch 87/100\n",
      "1/1 [==============================] - 0s 89ms/step - loss: 0.7698\n",
      "Epoch 88/100\n",
      "1/1 [==============================] - 0s 83ms/step - loss: 0.7618\n",
      "Epoch 89/100\n",
      "1/1 [==============================] - 0s 92ms/step - loss: 0.7541\n",
      "Epoch 90/100\n",
      "1/1 [==============================] - 0s 83ms/step - loss: 0.7467\n",
      "Epoch 91/100\n",
      "1/1 [==============================] - 0s 78ms/step - loss: 0.7395\n",
      "Epoch 92/100\n",
      "1/1 [==============================] - 0s 72ms/step - loss: 0.7325\n",
      "Epoch 93/100\n",
      "1/1 [==============================] - 0s 74ms/step - loss: 0.7258\n",
      "Epoch 94/100\n",
      "1/1 [==============================] - 0s 72ms/step - loss: 0.7193\n",
      "Epoch 95/100\n",
      "1/1 [==============================] - 0s 75ms/step - loss: 0.7130\n",
      "Epoch 96/100\n",
      "1/1 [==============================] - 0s 71ms/step - loss: 0.7069\n",
      "Epoch 97/100\n",
      "1/1 [==============================] - 0s 75ms/step - loss: 0.7010\n",
      "Epoch 98/100\n",
      "1/1 [==============================] - 0s 76ms/step - loss: 0.6953\n",
      "Epoch 99/100\n",
      "1/1 [==============================] - 0s 76ms/step - loss: 0.6898\n",
      "Epoch 100/100\n",
      "1/1 [==============================] - 0s 69ms/step - loss: 0.6844\n"
     ]
    },
    {
     "data": {
      "text/plain": [
       "<keras.callbacks.History at 0x144a0adbb80>"
      ]
     },
     "execution_count": 21,
     "metadata": {},
     "output_type": "execute_result"
    }
   ],
   "source": [
    "model = keras.Sequential([\n",
    "    keras.layers.Input(28 * 28),\n",
    "    keras.layers.Dense(16, activation='relu'),\n",
    "    keras.layers.Dense(16, activation='relu'),\n",
    "    keras.layers.Dense(10, activation='linear')\n",
    "])\n",
    "\n",
    "model.compile(loss=keras.losses.CategoricalCrossentropy(from_logits=True), optimizer=keras.optimizers.SGD(1e-1))\n",
    "model.fit(x_train, y_train, batch_size=60000, epochs=100)\n"
   ]
  },
  {
   "cell_type": "code",
   "execution_count": 22,
   "metadata": {},
   "outputs": [
    {
     "name": "stdout",
     "output_type": "stream",
     "text": [
      "313/313 [==============================] - 1s 2ms/step\n"
     ]
    }
   ],
   "source": [
    "y_hat = model.predict(x_test)"
   ]
  },
  {
   "cell_type": "code",
   "execution_count": 23,
   "metadata": {},
   "outputs": [
    {
     "data": {
      "image/png": "[encoded data removed]",
      "text/plain": [
       "<Figure size 640x480 with 1 Axes>"
      ]
     },
     "metadata": {},
     "output_type": "display_data"
    }
   ],
   "source": [
    "fig, ax = plt.subplots()\n",
    "\n",
    "ax.hist(np.argmax(y_test, axis=1), label='actual')\n",
    "ax.hist(np.argmax(y_hat, axis=1), label='predicted')\n",
    "\n",
    "ax.legend()\n",
    "ax.set_xticks(np.arange(0, 10))\n",
    "\n",
    "plt.show()"
   ]
  },
  {
   "cell_type": "code",
   "execution_count": null,
   "metadata": {},
   "outputs": [],
   "source": []
  }
 ],
 "metadata": {
  "kernelspec": {
   "display_name": "coursera-ml",
   "language": "python",
   "name": "python3"
  },
  "language_info": {
   "codemirror_mode": {
    "name": "ipython",
    "version": 3
   },
   "file_extension": ".py",
   "mimetype": "text/x-python",
   "name": "python",
   "nbconvert_exporter": "python",
   "pygments_lexer": "ipython3",
   "version": "3.10.11"
  },
  "orig_nbformat": 4
 },
 "nbformat": 4,
 "nbformat_minor": 2
}
